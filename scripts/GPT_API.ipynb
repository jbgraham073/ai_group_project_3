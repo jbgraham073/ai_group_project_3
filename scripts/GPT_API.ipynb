{
 "cells": [
  {
   "cell_type": "markdown",
   "metadata": {},
   "source": [
    "# Dependencies"
   ]
  },
  {
   "cell_type": "code",
   "execution_count": 1,
   "metadata": {},
   "outputs": [],
   "source": [
    "from langchain_openai import ChatOpenAI\n",
    "from dotenv import load_dotenv\n",
    "import os\n",
    "from langchain.chains.question_answering import load_qa_chain"
   ]
  },
  {
   "cell_type": "markdown",
   "metadata": {},
   "source": [
    "# Model and API Key"
   ]
  },
  {
   "cell_type": "code",
   "execution_count": 2,
   "metadata": {},
   "outputs": [],
   "source": [
    "# Load environment variables.\n",
    "load_dotenv()\n",
    "\n",
    "# Set the model name for our LLMs.\n",
    "OPENAI_MODEL = \"gpt-3.5-turbo\"\n",
    "# Store the API key in a variable.\n",
    "OPENAI_API_KEY = os.getenv(\"OPENAI_API_KEY\")"
   ]
  },
  {
   "cell_type": "code",
   "execution_count": 4,
   "metadata": {},
   "outputs": [
    {
     "name": "stdout",
     "output_type": "stream",
     "text": [
      "\n",
      "Look at the stars\n",
      "Look how they shine for you\n",
      "And everything you do\n",
      "Yeah, they were all yellow\n",
      "I came along\n",
      "I wrote a song for you\n",
      "And all the things you do\n",
      "And it was called \"Yellow\"\n",
      "So then I took my turn\n",
      "Oh, what a thing to have done\n",
      "And it was all yellow\n",
      "\n",
      "(Aah) Your skin, oh, yeah, your skin and bones\n",
      "(Ooh) Turn into something beautiful\n",
      "(Aah) And you know, you know I love you so\n",
      "You know I love you so\n",
      "\n",
      "I swam across\n",
      "I jumped across for you\n",
      "Oh, what a thing to do\n",
      "'Cause you were all yellow\n",
      "I drew a line\n",
      "I drew a line for you\n",
      "Oh, what a thing to do\n",
      "And it was all yellow\n",
      "See Coldplay LiveGet tickets as low as $76\n",
      "(Aah) And your skin, oh, yeah, your skin and bones\n",
      "(Ooh) Turn into something beautiful\n",
      "(Aah) And you know, for you, I'd bleed myself dry\n",
      "For you, I'd bleed myself dry\n",
      "\n",
      "It's true\n",
      "Look how they shine for you\n",
      "Look how they shine for you\n",
      "Look how they shine for\n",
      "Look how they shine for you\n",
      "Look how they shine for you\n",
      "Look how they shine\n",
      "\n",
      "Look at the stars\n",
      "Look how they shine for you\n",
      "And all the things that you do\n"
     ]
    }
   ],
   "source": [
    "from lyrics_genius import initialize_genius, get_lyrics\n",
    "\n",
    "title = \"Yellow\"\n",
    "artist = \"Coldplay\"\n",
    "\n",
    "genius = initialize_genius()\n",
    "lyrics = get_lyrics(genius, title, artist)\n",
    "\n",
    "print(lyrics)"
   ]
  },
  {
   "cell_type": "markdown",
   "metadata": {},
   "source": [
    "# Load User Preference and Generate New Lyrics"
   ]
  },
  {
   "cell_type": "code",
   "execution_count": 15,
   "metadata": {},
   "outputs": [],
   "source": [
    "# Import song lyrics and user preferences.\n",
    "user_preference = \"meloncholy\"\n",
    "\n",
    "def gpt_sent_shift(lyrics, user_preference):\n",
    "    # Load the GPT-3.5-turbo model.\n",
    "    llm = ChatOpenAI(openai_api_key=OPENAI_API_KEY, model_name=OPENAI_MODEL, temperature=0.0)\n",
    "\n",
    "    # Generate a song based on the lyrics and user preference.\n",
    "    query = f'Please write a song based on the lyrics {lyrics} with a sentiment of {user_preference}.'\n",
    "    result = llm.invoke(query)\n",
    "\n",
    "    return(result.content)\n",
    "\n"
   ]
  }
 ],
 "metadata": {
  "kernelspec": {
   "display_name": "base",
   "language": "python",
   "name": "python3"
  },
  "language_info": {
   "codemirror_mode": {
    "name": "ipython",
    "version": 3
   },
   "file_extension": ".py",
   "mimetype": "text/x-python",
   "name": "python",
   "nbconvert_exporter": "python",
   "pygments_lexer": "ipython3",
   "version": "3.11.0"
  }
 },
 "nbformat": 4,
 "nbformat_minor": 2
}
