{
 "cells": [
  {
   "cell_type": "code",
   "execution_count": 11,
   "metadata": {},
   "outputs": [
    {
     "name": "stdout",
     "output_type": "stream",
     "text": [
      "Running on local URL:  http://127.0.0.1:7865\n",
      "\n",
      "To create a public link, set `share=True` in `launch()`.\n"
     ]
    },
    {
     "data": {
      "text/html": [
       "<div><iframe src=\"http://127.0.0.1:7865/\" width=\"100%\" height=\"500\" allow=\"autoplay; camera; microphone; clipboard-read; clipboard-write;\" frameborder=\"0\" allowfullscreen></iframe></div>"
      ],
      "text/plain": [
       "<IPython.core.display.HTML object>"
      ]
     },
     "metadata": {},
     "output_type": "display_data"
    },
    {
     "data": {
      "text/plain": []
     },
     "execution_count": 11,
     "metadata": {},
     "output_type": "execute_result"
    }
   ],
   "source": [
    "import gradio as gr\n",
    "def update(song_title, song_artist):\n",
    "    return ('Lyrice Here', 0.5, 0.35, 0.15, 0.25)\n",
    "\n",
    "def sent_swap(new_sentiment, song_lyrics):\n",
    "    return ('New Lyrics Here', 0.6, 0.25, 0.15, 0.35)\n",
    "\n",
    "with gr.Blocks() as app:\n",
    "    with gr.Row():\n",
    "        with gr.Column():\n",
    "            with gr.Group():\n",
    "                song_title = gr.Textbox(lines=1, label=\"Song Title\")\n",
    "                song_artist = gr.Textbox(lines=1, label=\"Song Artist\")\n",
    "                search = gr.Button(value=\"Search\")    \n",
    "            song_lyrics = gr.Textbox(lines=10, label=\"Lyrics\")\n",
    "            with gr.Row():\n",
    "                pos = gr.Textbox(lines=1, label=\"Positive\")\n",
    "                neg = gr.Textbox(lines=1, label=\"Negative\")\n",
    "                neu = gr.Textbox(lines=1, label=\"Neutral\")\n",
    "                com = gr.Textbox(lines=1, label=\"Compound\")\n",
    "            search.click(fn=update, inputs=[song_title, song_artist], outputs=[song_lyrics, pos, neg, neu, com])\n",
    "        with gr.Column():\n",
    "            with gr.Group():\n",
    "                new_sentiment = gr.Textbox(lines=1, label=\"Sentiment\", scale=2)\n",
    "                submit = gr.Button(value=\"Submit\")\n",
    "            new_lyrics = gr.Textbox(lines=10, label=\"Lyrics\")\n",
    "            with gr.Row():\n",
    "                pos = gr.Textbox(lines=1, label=\"Positive\")\n",
    "                neg = gr.Textbox(lines=1, label=\"Negative\")\n",
    "                neu = gr.Textbox(lines=1, label=\"Neutral\")\n",
    "                com = gr.Textbox(lines=1, label=\"Compound\")\n",
    "            submit.click(fn=sent_swap, inputs=[new_sentiment, song_lyrics], outputs=[new_lyrics, pos, neg, neu, com])\n",
    "    \n",
    "\n",
    "app.launch()"
   ]
  }
 ],
 "metadata": {
  "kernelspec": {
   "display_name": "base",
   "language": "python",
   "name": "python3"
  },
  "language_info": {
   "codemirror_mode": {
    "name": "ipython",
    "version": 3
   },
   "file_extension": ".py",
   "mimetype": "text/x-python",
   "name": "python",
   "nbconvert_exporter": "python",
   "pygments_lexer": "ipython3",
   "version": "3.11.0"
  }
 },
 "nbformat": 4,
 "nbformat_minor": 2
}
